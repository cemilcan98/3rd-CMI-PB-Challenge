{
 "cells": [
  {
   "cell_type": "code",
   "execution_count": null,
   "metadata": {},
   "outputs": [],
   "source": [
    "import os\n",
    "import pandas as pd\n",
    "from sklearn.linear_model import ElasticNetCV\n",
    "from sklearn.impute import SimpleImputer\n",
    "from sklearn.model_selection import KFold\n",
    "import numpy as np\n",
    "\n",
    "# Paths\n",
    "train_features_path = \"results/processed/harmonized/task_matrix.tsv\"\n",
    "test_features_path = \"results/processed/harmonized/challenge_task_matrix.tsv\"\n",
    "outdir = \"results/submissions/harmonized/\"\n",
    "os.makedirs(outdir, exist_ok=True)\n",
    "\n",
    "train_data = pd.read_table(train_features_path)\n",
    "test_data = pd.read_table(test_features_path)\n",
    "\n",
    "imputer = SimpleImputer(strategy='mean')\n",
    "model = ElasticNetCV(cv=5, max_iter=20000)\n",
    "\n",
    "X_train = imputer.fit_transform(train_data.drop(['subject_id'], axis=1))\n",
    "y_train = train_data['igg_pt_day14']\n",
    "\n",
    "model.fit(X_train, y_train)\n",
    "predictions = model.predict(imputer.transform(test_data.drop(['subject_id'], axis=1)))\n",
    "\n",
    "submission = pd.DataFrame({\"subject_id\": test_data['subject_id'], \"predicted_rank\": predictions})\n",
    "submission.to_csv(os.path.join(outdir, \"submission.tsv\"), sep='\\t', index=False)\n"
   ]
  }
 ],
 "metadata": {
  "language_info": {
   "name": "python"
  }
 },
 "nbformat": 4,
 "nbformat_minor": 2
}
